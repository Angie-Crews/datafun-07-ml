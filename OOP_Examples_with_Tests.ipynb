{
 "cells": [
  {
   "cell_type": "markdown",
   "id": "0fa77376",
   "metadata": {},
   "source": [
    "## 🔑 10.2 Custom Class Account\n",
    "This section introduces a simple Account class to demonstrate class creation, attributes, and methods."
   ]
  },
  {
   "cell_type": "code",
   "execution_count": 1,
   "id": "cdfcbb40",
   "metadata": {},
   "outputs": [
    {
     "name": "stdout",
     "output_type": "stream",
     "text": [
      "New balance: 150\n",
      "New balance: 80\n"
     ]
    }
   ],
   "source": [
    "\n",
    "class Account:\n",
    "    def __init__(self, owner, balance=0):\n",
    "        self.owner = owner\n",
    "        self.balance = balance\n",
    "\n",
    "    def deposit(self, amount):\n",
    "        self.balance += amount\n",
    "        return f\"New balance: {self.balance}\"\n",
    "\n",
    "    def withdraw(self, amount):\n",
    "        if amount > self.balance:\n",
    "            return \"Insufficient funds!\"\n",
    "        self.balance -= amount\n",
    "        return f\"New balance: {self.balance}\"\n",
    "\n",
    "# Test\n",
    "acct = Account(\"Angie\", 100)\n",
    "print(acct.deposit(50))   # 150\n",
    "print(acct.withdraw(70))  # 80\n"
   ]
  },
  {
   "cell_type": "markdown",
   "id": "3361d14e",
   "metadata": {},
   "source": [
    "## 🔑 10.3–10.5 Attribute Control\n",
    "Shows how to use properties, getters, setters, and simulated private attributes."
   ]
  },
  {
   "cell_type": "code",
   "execution_count": 2,
   "id": "68d922c9",
   "metadata": {},
   "outputs": [
    {
     "name": "stdout",
     "output_type": "stream",
     "text": [
      "Angie 30\n",
      "Happy Birthday! You are now 31\n"
     ]
    }
   ],
   "source": [
    "\n",
    "class Person:\n",
    "    def __init__(self, name, age):\n",
    "        self._name = name\n",
    "        self.__age = age\n",
    "\n",
    "    @property\n",
    "    def name(self):\n",
    "        return self._name\n",
    "\n",
    "    @name.setter\n",
    "    def name(self, new_name):\n",
    "        if not new_name:\n",
    "            raise ValueError(\"Name cannot be empty\")\n",
    "        self._name = new_name\n",
    "\n",
    "    @property\n",
    "    def age(self):\n",
    "        return self.__age\n",
    "\n",
    "    def have_birthday(self):\n",
    "        self.__age += 1\n",
    "        return f\"Happy Birthday! You are now {self.__age}\"\n",
    "\n",
    "# Tests\n",
    "p = Person(\"Angie\", 30)\n",
    "print(p.name, p.age)\n",
    "p.name = \"Angela\"\n",
    "print(p.have_birthday())\n"
   ]
  },
  {
   "cell_type": "markdown",
   "id": "e968173d",
   "metadata": {},
   "source": [
    "## 🔑 10.6 Case Study: Card Shuffling\n",
    "Demonstrates a deck of cards class with shuffle and deal methods."
   ]
  },
  {
   "cell_type": "code",
   "execution_count": 3,
   "id": "7e339398",
   "metadata": {},
   "outputs": [
    {
     "name": "stdout",
     "output_type": "stream",
     "text": [
      "Dealt hand: ['4♠', 'Q♠', 'K♣', '7♦', '2♣']\n",
      "Remaining cards: 47\n"
     ]
    }
   ],
   "source": [
    "\n",
    "import random\n",
    "\n",
    "class Deck:\n",
    "    def __init__(self):\n",
    "        suits = [\"♠\", \"♥\", \"♦\", \"♣\"]\n",
    "        ranks = [\"A\",\"2\",\"3\",\"4\",\"5\",\"6\",\"7\",\"8\",\"9\",\"10\",\"J\",\"Q\",\"K\"]\n",
    "        self.cards = [f\"{r}{s}\" for s in suits for r in ranks]\n",
    "\n",
    "    def shuffle(self):\n",
    "        random.shuffle(self.cards)\n",
    "\n",
    "    def deal(self, n=1):\n",
    "        if n > len(self.cards):\n",
    "            raise ValueError(\"Not enough cards left to deal\")\n",
    "        dealt = self.cards[:n]\n",
    "        self.cards = self.cards[n:]\n",
    "        return dealt\n",
    "\n",
    "# Tests\n",
    "deck = Deck()\n",
    "deck.shuffle()\n",
    "hand = deck.deal(5)\n",
    "print(\"Dealt hand:\", hand)\n",
    "print(\"Remaining cards:\", len(deck.cards))\n"
   ]
  },
  {
   "cell_type": "markdown",
   "id": "7d90e9be",
   "metadata": {},
   "source": [
    "## 🔑 10.7–10.9 Inheritance, Polymorphism, Duck Typing\n",
    "Illustrates inheritance with Animal subclasses, polymorphism with speak method, and duck typing with Robot."
   ]
  },
  {
   "cell_type": "code",
   "execution_count": 4,
   "id": "327ca0eb",
   "metadata": {},
   "outputs": [
    {
     "name": "stdout",
     "output_type": "stream",
     "text": [
      "Rex says Woof!\n",
      "Whiskers says Meow!\n",
      "I am a robot. Beep boop.\n"
     ]
    }
   ],
   "source": [
    "\n",
    "class Animal:\n",
    "    def __init__(self, name):\n",
    "        self.name = name\n",
    "    def speak(self):\n",
    "        raise NotImplementedError()\n",
    "\n",
    "class Dog(Animal):\n",
    "    def speak(self):\n",
    "        return f\"{self.name} says Woof!\"\n",
    "\n",
    "class Cat(Animal):\n",
    "    def speak(self):\n",
    "        return f\"{self.name} says Meow!\"\n",
    "\n",
    "class Robot:\n",
    "    def speak(self):\n",
    "        return \"I am a robot. Beep boop.\"\n",
    "\n",
    "# Tests\n",
    "animals = [Dog(\"Rex\"), Cat(\"Whiskers\"), Robot()]\n",
    "for a in animals:\n",
    "    print(a.speak())\n"
   ]
  },
  {
   "cell_type": "markdown",
   "id": "c9743735",
   "metadata": {},
   "source": [
    "## 🔑 10.10 Operator Overloading\n",
    "Defines Vector with operator overloading for +, -, *, ==, len, scalar multiplication, and magnitude."
   ]
  },
  {
   "cell_type": "code",
   "execution_count": 5,
   "id": "3e93f30e",
   "metadata": {},
   "outputs": [
    {
     "name": "stdout",
     "output_type": "stream",
     "text": [
      "Vector(6, 4) Vector(-2, 2) 11 Vector(4, 6) Vector(8, 2) 2 3.605551275463989\n"
     ]
    }
   ],
   "source": [
    "\n",
    "import math\n",
    "\n",
    "class Vector:\n",
    "    def __init__(self, *coords):\n",
    "        self.coords = tuple(coords)\n",
    "\n",
    "    def __add__(self, other):\n",
    "        return Vector(*[a+b for a,b in zip(self.coords, other.coords)])\n",
    "\n",
    "    def __sub__(self, other):\n",
    "        return Vector(*[a-b for a,b in zip(self.coords, other.coords)])\n",
    "\n",
    "    def __mul__(self, other):\n",
    "        if isinstance(other, Vector):\n",
    "            return sum(a*b for a,b in zip(self.coords, other.coords))\n",
    "        elif isinstance(other, (int,float)):\n",
    "            return Vector(*[a*other for a in self.coords])\n",
    "        return NotImplemented\n",
    "\n",
    "    __rmul__ = __mul__\n",
    "\n",
    "    def __eq__(self, other):\n",
    "        return self.coords == other.coords\n",
    "\n",
    "    def __len__(self):\n",
    "        return len(self.coords)\n",
    "\n",
    "    def magnitude(self):\n",
    "        return math.sqrt(sum(a**2 for a in self.coords))\n",
    "\n",
    "    def __repr__(self):\n",
    "        return f\"Vector{self.coords}\"\n",
    "\n",
    "# Tests\n",
    "v1 = Vector(2,3)\n",
    "v2 = Vector(4,1)\n",
    "print(v1+v2, v1-v2, v1*v2, v1*2, 2*v2, len(v1), v1.magnitude())\n"
   ]
  },
  {
   "cell_type": "markdown",
   "id": "c9b6836e",
   "metadata": {},
   "source": [
    "## 🔑 10.11–10.15 Other OOP Topics\n",
    "Covers custom exceptions, named tuples, data classes, doctest, and scope rules."
   ]
  },
  {
   "cell_type": "code",
   "execution_count": 1,
   "id": "18a46f5a",
   "metadata": {},
   "outputs": [
    {
     "name": "stdout",
     "output_type": "stream",
     "text": [
      "Point: Point(x=3, y=4)\n",
      "Employee(id=1, name='Alice', department='HR') Employee(id=2, name='Bob', department='General')\n",
      "Trying:\n",
      "    square(2)\n",
      "Expecting:\n",
      "    4\n",
      "ok\n",
      "Trying:\n",
      "    square(-3)\n",
      "Expecting:\n",
      "    9\n",
      "ok\n",
      "10 items had no tests:\n",
      "    __main__\n",
      "    __main__.BankAccount\n",
      "    __main__.BankAccount.__init__\n",
      "    __main__.BankAccount.withdraw\n",
      "    __main__.Employee\n",
      "    __main__.Employee.__eq__\n",
      "    __main__.Employee.__init__\n",
      "    __main__.Employee.__repr__\n",
      "    __main__.InsufficientFundsError\n",
      "    __main__.Point\n",
      "\u001b[32m1 item passed all tests:\u001b[0m\n",
      " \u001b[32m  2 tests in __main__.square\u001b[0m\n",
      "2 tests in 11 items.\n",
      "\u001b[32m2 passed\u001b[0m.\n",
      "\u001b[1;32mTest passed.\u001b[0m\n",
      "Inner: inner modified\n",
      "Outer after inner: inner modified\n",
      "Global: global\n"
     ]
    }
   ],
   "source": [
    "\n",
    "from collections import namedtuple\n",
    "from dataclasses import dataclass\n",
    "import doctest\n",
    "\n",
    "# 10.11 Custom Exception\n",
    "class InsufficientFundsError(Exception): pass\n",
    "\n",
    "class BankAccount:\n",
    "    def __init__(self, balance=0):\n",
    "        self.balance = balance\n",
    "\n",
    "    def withdraw(self, amount):\n",
    "        if amount > self.balance:\n",
    "            raise InsufficientFundsError(\"Not enough money\")\n",
    "        self.balance -= amount\n",
    "        return self.balance\n",
    "\n",
    "# 10.12 Named Tuple\n",
    "Point = namedtuple(\"Point\", [\"x\",\"y\"])\n",
    "p = Point(3,4)\n",
    "print(\"Point:\", p)\n",
    "\n",
    "# 10.13 Data Class\n",
    "@dataclass\n",
    "class Employee:\n",
    "    id:int\n",
    "    name:str\n",
    "    department:str=\"General\"\n",
    "    \n",
    "e1 = Employee(1,\"Alice\",\"HR\")\n",
    "e2 = Employee(2,\"Bob\")\n",
    "print(e1, e2)\n",
    "\n",
    "# 10.14 Doctest\n",
    "def square(x):\n",
    "    '''\n",
    "    >>> square(2)\n",
    "    4\n",
    "    >>> square(-3)\n",
    "    9\n",
    "    '''\n",
    "    return x*x\n",
    "\n",
    "doctest.testmod(verbose=True)\n",
    "\n",
    "# 10.15 Scope\n",
    "x=\"global\"\n",
    "def outer():\n",
    "    x=\"outer local\"\n",
    "    def inner():\n",
    "        nonlocal x\n",
    "        x=\"inner modified\"\n",
    "        print(\"Inner:\",x)\n",
    "    inner()\n",
    "    print(\"Outer after inner:\",x)\n",
    "outer()\n",
    "print(\"Global:\",x)\n"
   ]
  },
  {
   "cell_type": "markdown",
   "id": "a8611579",
   "metadata": {},
   "source": [
    "## 🔑 10.16 Time Series & Regression (No Pandas)\n",
    "Shows simple time series and linear regression with NumPy and scikit-learn without pandas."
   ]
  },
  {
   "cell_type": "code",
   "execution_count": 7,
   "id": "5610439c",
   "metadata": {},
   "outputs": [
    {
     "name": "stdout",
     "output_type": "stream",
     "text": [
      "Slope: 2.1878787878787875\n",
      "Intercept: 7.666666666666668\n",
      "Prediction for day 11: 31.73333333333333\n",
      "✅ Regression test passed!\n"
     ]
    }
   ],
   "source": [
    "\n",
    "import numpy as np\n",
    "from sklearn.linear_model import LinearRegression\n",
    "\n",
    "X = np.arange(1,11).reshape(-1,1)\n",
    "y = np.array([10,12,15,14,20,22,21,25,30,28])\n",
    "\n",
    "model = LinearRegression()\n",
    "model.fit(X,y)\n",
    "\n",
    "print(\"Slope:\", model.coef_[0])\n",
    "print(\"Intercept:\", model.intercept_)\n",
    "print(\"Prediction for day 11:\", model.predict(np.array([[11]]))[0])\n",
    "\n",
    "# Tests\n",
    "assert model.coef_[0] > 0\n",
    "pred11 = model.predict(np.array([[11]]))[0]\n",
    "assert 25 <= pred11 <= 35\n",
    "print(\"✅ Regression test passed!\")\n"
   ]
  }
 ],
 "metadata": {
  "kernelspec": {
   "display_name": ".venv",
   "language": "python",
   "name": "python3"
  },
  "language_info": {
   "codemirror_mode": {
    "name": "ipython",
    "version": 3
   },
   "file_extension": ".py",
   "mimetype": "text/x-python",
   "name": "python",
   "nbconvert_exporter": "python",
   "pygments_lexer": "ipython3",
   "version": "3.13.7"
  }
 },
 "nbformat": 4,
 "nbformat_minor": 5
}
